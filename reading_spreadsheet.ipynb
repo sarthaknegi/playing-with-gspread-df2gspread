{
 "cells": [
  {
   "cell_type": "markdown",
   "metadata": {},
   "source": [
    "# Reading Spreadsheet\n",
    "reding worksheets inside a given spreadsheet\n",
    "used service account since that way we can access the private spreadsheet without.It's actually used for \n",
    "server to server interaction where user consent is not needed\n",
    "Read More : https://developers.google.com/identity/protocols/OAuth2"
   ]
  },
  {
   "cell_type": "code",
   "execution_count": 2,
   "metadata": {
    "collapsed": true
   },
   "outputs": [],
   "source": [
    "import gspread\n",
    "from apiclient.discovery import build\n",
    "from oauth2client.service_account import ServiceAccountCredentials\n",
    "\n",
    "import httplib2\n",
    "from apiclient.discovery import build"
   ]
  },
  {
   "cell_type": "markdown",
   "metadata": {},
   "source": [
    "# Using both the gspread and the sheet api methods"
   ]
  },
  {
   "cell_type": "code",
   "execution_count": 1,
   "metadata": {
    "collapsed": false
   },
   "outputs": [],
   "source": [
    "#Sheet API\n",
    "def reading_spreadsheet(spreadsheetId,rangeName):\n",
    "\n",
    "    #Key which gets generated when you create a service account\n",
    "    json_key = 'some.json'\n",
    "    scope = ['https://www.googleapis.com/auth/spreadsheets']\n",
    "\n",
    "\n",
    "    #credentials\n",
    "    credentials = ServiceAccountCredentials.from_json_keyfile_name(json_key,scope)\n",
    "\n",
    "    http = httplib2.Http()\n",
    "    http = credentials.authorize(http)\n",
    "\n",
    "    service = build('sheets', 'v4', http=http)\n",
    "\n",
    "    result = service.spreadsheets().values().get(spreadsheetId=spreadsheetId,range=rangeName)\n",
    "\n",
    "    response = result.execute()\n",
    "\n",
    "    print(response)\n"
   ]
  },
  {
   "cell_type": "code",
   "execution_count": null,
   "metadata": {
    "collapsed": true
   },
   "outputs": [],
   "source": [
    "#You can adjust the range\n",
    "rangeName = 'A1:B2'\n",
    "spreadsheetId = '4jdcid...'\n",
    "reading_spreadsheet(spreadsheetId, rangeName)"
   ]
  },
  {
   "cell_type": "code",
   "execution_count": 2,
   "metadata": {
    "collapsed": true
   },
   "outputs": [],
   "source": [
    "#Using gspread\n",
    "\n",
    "def reading_spreadsheet_gspread(spreadsheetId):\n",
    "    \n",
    "    # #create a credentials object and scopes\n",
    "    json_key = 'demoproject-a76c319a8d32.json'\n",
    "    scope = ['https://www.googleapis.com/auth/spreadsheets']\n",
    "\n",
    "    credentials = ServiceAccountCredentials.from_json_keyfile_name(json_key, scope)\n",
    "\n",
    "    gc = gspread.authorize(credentials)\n",
    "\n",
    "    #by url\n",
    "    wks = gc.open_by_url('enter the url') \n",
    "\n",
    "    #by id\n",
    "    #wks = gc.open_by_key(spreadsheetId) OR\n",
    "\n",
    "    #by name\n",
    "    #wks = gc.open(spreadsheetname)\n",
    "\n",
    "    #Access the worksheet by entering the sheet number\n",
    "    w = wks.get_worksheet(0)\n",
    "\n",
    "    #Access the worksheet by name\n",
    "    #w = wks.worksheet(name)\n",
    "\n",
    "\n",
    "    content = worsheet.acell('A1:B2').value\n",
    "    content_by_row = w.row_values(1)\n",
    "    content_by_col = w.col_values(1)\n",
    "\n",
    "    print(content)\n",
    "    print(content_by_row)\n",
    "    print(content_by_col)\n"
   ]
  },
  {
   "cell_type": "code",
   "execution_count": null,
   "metadata": {
    "collapsed": true
   },
   "outputs": [],
   "source": [
    "spreadsheetId = '23jdkdld...'\n",
    "reading_spreadsheet_gspread(spreadsheetId)"
   ]
  }
 ],
 "metadata": {
  "kernelspec": {
   "display_name": "Python 3",
   "language": "python",
   "name": "python3"
  },
  "language_info": {
   "codemirror_mode": {
    "name": "ipython",
    "version": 3
   },
   "file_extension": ".py",
   "mimetype": "text/x-python",
   "name": "python",
   "nbconvert_exporter": "python",
   "pygments_lexer": "ipython3",
   "version": "3.6.0"
  }
 },
 "nbformat": 4,
 "nbformat_minor": 2
}
