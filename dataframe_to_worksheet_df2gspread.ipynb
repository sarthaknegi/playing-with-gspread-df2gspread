{
 "cells": [
  {
   "cell_type": "markdown",
   "metadata": {},
   "source": [
    "# Dumping the dataframe in the worksheet\n",
    "using df2gspread..Read More : "
   ]
  },
  {
   "cell_type": "markdown",
   "metadata": {},
   "source": [
    "# Note:  \n",
    "Don't forget to share the spreadsheet with your service account else you will see an error \"Insufficient permission\""
   ]
  },
  {
   "cell_type": "code",
   "execution_count": 1,
   "metadata": {
    "collapsed": true
   },
   "outputs": [],
   "source": [
    "from df2gspread import df2gspread as d2g\n",
    "from oauth2client.service_account import ServiceAccountCredentials\n",
    "import pandas as pd"
   ]
  },
  {
   "cell_type": "code",
   "execution_count": null,
   "metadata": {
    "collapsed": true
   },
   "outputs": [],
   "source": [
    "#create a credentials object and scopes\n",
    "json_key = 'some.json'\n",
    "scope = ['https://www.googleapis.com/auth/spreadsheets']\n",
    "\n",
    "credentials = ServiceAccountCredentials.from_json_keyfile_name(json_key, scope)\n",
    "\n",
    "gc = gspread.authorize(credentials)\n",
    "\n",
    "#open the spreadsheet where the new worksheet will be created\n",
    "spreads = gc.open_by_url('1JVXP...') \n",
    "\n",
    "wks = 'new_worksheet'\n",
    "\n",
    "df = pd.DataFrame([[1,4],[1,5]], columns=['a','b'])\n",
    "\n",
    "upload = d2g.upload(df, spreads.id, wks, col_names=True, credentials=credentials)\n"
   ]
  }
 ],
 "metadata": {
  "kernelspec": {
   "display_name": "Python 3",
   "language": "python",
   "name": "python3"
  },
  "language_info": {
   "codemirror_mode": {
    "name": "ipython",
    "version": 3
   },
   "file_extension": ".py",
   "mimetype": "text/x-python",
   "name": "python",
   "nbconvert_exporter": "python",
   "pygments_lexer": "ipython3",
   "version": "3.6.0"
  }
 },
 "nbformat": 4,
 "nbformat_minor": 2
}
