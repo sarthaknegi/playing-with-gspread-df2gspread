{
 "cells": [
  {
   "cell_type": "markdown",
   "metadata": {},
   "source": [
    "# Creating New Spreadsheet\n",
    "I have used service account for creating the spreadsheet. Service account are created for server to server\n",
    "interaction.\n",
    "Read More : https://developers.google.com/identity/protocols/OAuth2ServiceAccount\n"
   ]
  },
  {
   "cell_type": "code",
   "execution_count": 1,
   "metadata": {
    "collapsed": true
   },
   "outputs": [],
   "source": [
    "import gspread\n",
    "from oauth2client.service_account import ServiceAccountCredentials"
   ]
  },
  {
   "cell_type": "code",
   "execution_count": null,
   "metadata": {
    "collapsed": false
   },
   "outputs": [],
   "source": [
    "#This is the key which will get generated after you create a service account\n",
    "json_key = 'some.json'\n",
    "\n",
    "\n",
    "#Read More about scope: https://developers.google.com/sheets/api/guides/authorizing\n",
    "scope = ['https://www.googleapis.com/auth/spreadsheets', 'https://www.googleapis.com/auth/drive']\n",
    "\n",
    "#credentials to the service account\n",
    "credentials = ServiceAccountCredentials.from_json_keyfile_name(json_key, scope)\n",
    "\n",
    "gc = gspread.authorize(credentials)\n",
    "\n",
    "#creating empty spreadsheet\n",
    "new_spreadsheet = gc.create('nameofspreadsheet')\n",
    "\n",
    "#But that new spreadsheet will be visible only to your script's account. Meaning only service account have \n",
    "#access\n",
    "#To be able to access newly created spreadsheet you *must* share it\n",
    "#with your email. \n",
    "\n",
    "#check the google drive of the given below email id\n",
    "new_spreadsheet.share('emailid@gmail.com', perm_type='user',role='writer')\n"
   ]
  },
  {
   "cell_type": "code",
   "execution_count": null,
   "metadata": {
    "collapsed": true
   },
   "outputs": [],
   "source": []
  }
 ],
 "metadata": {
  "kernelspec": {
   "display_name": "Python 3",
   "language": "python",
   "name": "python3"
  },
  "language_info": {
   "codemirror_mode": {
    "name": "ipython",
    "version": 3
   },
   "file_extension": ".py",
   "mimetype": "text/x-python",
   "name": "python",
   "nbconvert_exporter": "python",
   "pygments_lexer": "ipython3",
   "version": "3.6.0"
  }
 },
 "nbformat": 4,
 "nbformat_minor": 2
}
