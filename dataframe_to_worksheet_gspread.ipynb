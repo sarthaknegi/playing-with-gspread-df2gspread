{
 "cells": [
  {
   "cell_type": "markdown",
   "metadata": {},
   "source": [
    "# Dumping the dataframe in the worksheet\n",
    "using gspread"
   ]
  },
  {
   "cell_type": "code",
   "execution_count": 1,
   "metadata": {
    "collapsed": true
   },
   "outputs": [],
   "source": [
    "from apiclient.discovery import build\n",
    "from df2gspread import df2gspread as d2g\n",
    "from oauth2client.service_account import ServiceAccountCredentials\n",
    "import pandas as pd\n",
    "import gspread"
   ]
  },
  {
   "cell_type": "code",
   "execution_count": 2,
   "metadata": {
    "collapsed": true
   },
   "outputs": [],
   "source": [
    "def df_to_sheet(dataframe):\n",
    "    spreadsheetId = '3j4k5lkd...'\n",
    "    \n",
    "    json_key = 'some.json'\n",
    "    scope = ['https://www.googleapis.com/auth/spreadsheets']\n",
    "    \n",
    "    credentials = ServiceAccountCredentials.from_json_keyfile_name(json_key, scope)\n",
    "    \n",
    "    gc = gspread.authorize(credentials)\n",
    "    spread_sheet = gc.open_by_key(spreadsheetId) \n",
    "    \n",
    "    #creating new worksheet where the dataframe will be copied\n",
    "    \n",
    "    #you can increase the row and column, but if dataframe is large and you don't know the size then \n",
    "    #set the rows and cols to one. It will adjust accordingly\n",
    "    new_sheet = spread_sheet.add_worksheet(title='new sheet',rows=1,cols=1)\n",
    "\n",
    "\n",
    "\n",
    "    #pushing the data from the dataframe to the sheet\n",
    "    for row in dataframe.iterrows():\n",
    "        if i == 0:\n",
    "            #for sending the col names first\n",
    "            header = list(dataframe)\n",
    "            new_sheet.append_row(header)\n",
    "            new_sheet.append_row(row[1].tolist())\n",
    "        else:\n",
    "            new_sheet.append_row(row[1].tolist())\n",
    "        \n",
    "        i = i + 1\n",
    "\n",
    "\n",
    "    #since the first row was empty \n",
    "    creating_sheet.delete_row(1)"
   ]
  },
  {
   "cell_type": "code",
   "execution_count": null,
   "metadata": {
    "collapsed": true
   },
   "outputs": [],
   "source": [
    "df_to_sheet(dataframe)"
   ]
  }
 ],
 "metadata": {
  "kernelspec": {
   "display_name": "Python 3",
   "language": "python",
   "name": "python3"
  },
  "language_info": {
   "codemirror_mode": {
    "name": "ipython",
    "version": 3
   },
   "file_extension": ".py",
   "mimetype": "text/x-python",
   "name": "python",
   "nbconvert_exporter": "python",
   "pygments_lexer": "ipython3",
   "version": "3.6.0"
  }
 },
 "nbformat": 4,
 "nbformat_minor": 2
}
